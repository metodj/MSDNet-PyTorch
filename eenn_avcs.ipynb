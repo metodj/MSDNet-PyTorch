{
 "cells": [
  {
   "cell_type": "code",
   "execution_count": 1,
   "metadata": {},
   "outputs": [],
   "source": [
    "import torch\n",
    "import numpy as np\n",
    "import matplotlib.pyplot as plt\n",
    "\n",
    "from utils_eenn_avcs import *\n",
    "# from utils_notebook import get_logits_targets\n",
    "from models.msdnet import MSDNet_exit\n",
    "from dataloader import get_dataloaders\n",
    "\n",
    "from laplace import Laplace\n",
    "# from utils_eenn_avcs import FullLLLaplaceBridge\n",
    "\n",
    "import random\n",
    "\n",
    "import pickle"
   ]
  },
  {
   "cell_type": "code",
   "execution_count": 2,
   "metadata": {},
   "outputs": [],
   "source": [
    "def get_logits_targets(dataset, model_folder, likelihood, epoch, cuda=True, logits_type: str = 'test'):\n",
    "    assert dataset in [\"cifar10\", \"cifar100\"]\n",
    "    assert logits_type in ['train', 'test', 'val']\n",
    "    ARGS = parse_args()\n",
    "    ARGS.data_root = \"data\"\n",
    "    ARGS.data = dataset\n",
    "    if dataset == \"cifar10\":\n",
    "        folder_path = 'models_cifar_10'\n",
    "    else:\n",
    "        folder_path = 'models'\n",
    "    ARGS.save = (\n",
    "        # f\"/home/metod/Desktop/PhD/year1/PoE/MSDNet-PyTorch/{folder_path}/{model_folder}\"\n",
    "        f\"/home/mona/Desktop/MSDNet-PyTorch/{folder_path}/{model_folder}\"\n",
    "    )\n",
    "    ARGS.arch = \"msdnet\"\n",
    "    ARGS.batch_size = 64\n",
    "    ARGS.epochs = 300\n",
    "    ARGS.nBlocks = 7\n",
    "    ARGS.stepmode = \"even\"\n",
    "    ARGS.base = 4\n",
    "    ARGS.nChannels = 16\n",
    "    ARGS.j = 16\n",
    "    ARGS.num_classes = 100 if dataset == \"cifar100\" else 10\n",
    "    ARGS.step = 2\n",
    "    ARGS.use_valid = True\n",
    "    ARGS.splits = [\"train\", \"val\", \"test\"]\n",
    "    ARGS.likelihood = likelihood\n",
    "\n",
    "    # load pre-trained model\n",
    "    model = MSDNet(args=ARGS)\n",
    "    model_path = f\"{folder_path}/{model_folder}/save_models/checkpoint_{epoch}.pth.tar\"\n",
    "    if cuda:\n",
    "        state = torch.load(model_path)\n",
    "    else: \n",
    "        state = torch.load(model_path, map_location=torch.device('cpu'))\n",
    "    params = OrderedDict()\n",
    "    for params_name, params_val in state[\"state_dict\"].items():\n",
    "        params[params_name.replace(\"module.\", \"\")] = params_val\n",
    "        # state['state_dict'][params_name.replace('module.', '')] = state['state_dict'].pop(params_name)\n",
    "    model.load_state_dict(params)\n",
    "    if cuda:\n",
    "        model = model.cuda()\n",
    "    model.eval()\n",
    "\n",
    "    # data\n",
    "    if logits_type == 'test':\n",
    "        _, _, _loader = get_dataloaders(ARGS)\n",
    "    elif logits_type == 'val':\n",
    "        _, _loader, _ = get_dataloaders(ARGS)\n",
    "    elif logits_type == 'train':\n",
    "        _loader, _, _ = get_dataloaders(ARGS)\n",
    "    else:\n",
    "        raise ValueError(f'logits_type={logits_type} not supported')\n",
    "\n",
    "    logits = []\n",
    "    targets = []\n",
    "    with torch.no_grad():\n",
    "        for i, (x, y) in enumerate(_loader):\n",
    "            if cuda:\n",
    "                y = y.cuda(device=None)\n",
    "                x = x.cuda()\n",
    "\n",
    "            input_var = torch.autograd.Variable(x)\n",
    "            target_var = torch.autograd.Variable(y)\n",
    "\n",
    "            output = model(input_var)\n",
    "            if not isinstance(output, list):\n",
    "                output = [output]\n",
    "\n",
    "            logits.append(torch.stack(output))\n",
    "            targets.append(target_var)\n",
    "\n",
    "    logits = torch.cat(logits, dim=1).cpu()\n",
    "    targets = torch.cat(targets).cpu()\n",
    "\n",
    "    return logits, targets, ARGS"
   ]
  },
  {
   "cell_type": "code",
   "execution_count": 3,
   "metadata": {},
   "outputs": [
    {
     "name": "stdout",
     "output_type": "stream",
     "text": [
      "building network of steps: \n",
      "[4, 2, 2, 2, 2, 2, 2] 16\n",
      " ********************** Block 1  **********************\n",
      "|\t\tinScales 3 outScales 3 inChannels 16 outChannels 6\t\t|\n",
      "\n",
      "|\t\tinScales 3 outScales 3 inChannels 22 outChannels 6\t\t|\n",
      "\n",
      "|\t\tinScales 3 outScales 3 inChannels 28 outChannels 6\t\t|\n",
      "\n",
      "|\t\tinScales 3 outScales 3 inChannels 34 outChannels 6\t\t|\n",
      "\n",
      " ********************** Block 2  **********************\n",
      "|\t\tinScales 3 outScales 3 inChannels 40 outChannels 6\t\t|\n",
      "\n",
      "|\t\tinScales 3 outScales 3 inChannels 46 outChannels 6\t\t|\n",
      "\n",
      " ********************** Block 3  **********************\n",
      "|\t\tinScales 3 outScales 2 inChannels 52 outChannels 6\t\t|\n",
      "|\t\tTransition layer inserted! (max), inChannels 58, outChannels 29\t|\n",
      "\n",
      "|\t\tinScales 2 outScales 2 inChannels 29 outChannels 6\t\t|\n",
      "\n",
      " ********************** Block 4  **********************\n",
      "|\t\tinScales 2 outScales 2 inChannels 35 outChannels 6\t\t|\n",
      "\n",
      "|\t\tinScales 2 outScales 2 inChannels 41 outChannels 6\t\t|\n",
      "\n",
      " ********************** Block 5  **********************\n",
      "|\t\tinScales 2 outScales 2 inChannels 47 outChannels 6\t\t|\n",
      "\n",
      "|\t\tinScales 2 outScales 2 inChannels 53 outChannels 6\t\t|\n",
      "\n",
      " ********************** Block 6  **********************\n",
      "|\t\tinScales 2 outScales 1 inChannels 59 outChannels 6\t\t|\n",
      "|\t\tTransition layer inserted! (max), inChannels 65, outChannels 32\t|\n",
      "\n",
      "|\t\tinScales 1 outScales 1 inChannels 32 outChannels 6\t\t|\n",
      "\n",
      " ********************** Block 7  **********************\n",
      "|\t\tinScales 1 outScales 1 inChannels 38 outChannels 6\t\t|\n",
      "\n",
      "|\t\tinScales 1 outScales 1 inChannels 44 outChannels 6\t\t|\n",
      "\n",
      "Files already downloaded and verified\n",
      "Files already downloaded and verified\n",
      "!!!!!! Load train_set_index !!!!!!\n"
     ]
    }
   ],
   "source": [
    "DATASET = 'cifar10'\n",
    "# DATASET = 'cifar100'\n",
    "\n",
    "logits, targets, ARGS = get_logits_targets(DATASET, 'models_seed_1', 'softmax', 299, cuda=True)\n",
    "probs = torch.softmax(logits, dim=2)\n",
    "preds = get_preds_per_exit(probs)\n",
    "acc = get_acc_per_exit(preds, targets)"
   ]
  },
  {
   "cell_type": "code",
   "execution_count": 4,
   "metadata": {},
   "outputs": [
    {
     "data": {
      "text/plain": [
       "[tensor(0.8977),\n",
       " tensor(0.9084),\n",
       " tensor(0.9185),\n",
       " tensor(0.9223),\n",
       " tensor(0.9227),\n",
       " tensor(0.9262),\n",
       " tensor(0.9259)]"
      ]
     },
     "execution_count": 4,
     "metadata": {},
     "output_type": "execute_result"
    }
   ],
   "source": [
    "acc"
   ]
  },
  {
   "cell_type": "code",
   "execution_count": 5,
   "metadata": {},
   "outputs": [
    {
     "name": "stdout",
     "output_type": "stream",
     "text": [
      "building network of steps: \n",
      "[4, 2, 2, 2, 2, 2, 2] 16\n",
      " ********************** Block 1  **********************\n",
      "|\t\tinScales 3 outScales 3 inChannels 16 outChannels 6\t\t|\n",
      "\n",
      "|\t\tinScales 3 outScales 3 inChannels 22 outChannels 6\t\t|\n",
      "\n",
      "|\t\tinScales 3 outScales 3 inChannels 28 outChannels 6\t\t|\n",
      "\n",
      "|\t\tinScales 3 outScales 3 inChannels 34 outChannels 6\t\t|\n",
      "\n",
      " ********************** Block 2  **********************\n",
      "|\t\tinScales 3 outScales 3 inChannels 40 outChannels 6\t\t|\n",
      "\n",
      "|\t\tinScales 3 outScales 3 inChannels 46 outChannels 6\t\t|\n",
      "\n",
      " ********************** Block 3  **********************\n",
      "|\t\tinScales 3 outScales 2 inChannels 52 outChannels 6\t\t|\n",
      "|\t\tTransition layer inserted! (max), inChannels 58, outChannels 29\t|\n",
      "\n",
      "|\t\tinScales 2 outScales 2 inChannels 29 outChannels 6\t\t|\n",
      "\n",
      " ********************** Block 4  **********************\n",
      "|\t\tinScales 2 outScales 2 inChannels 35 outChannels 6\t\t|\n",
      "\n",
      "|\t\tinScales 2 outScales 2 inChannels 41 outChannels 6\t\t|\n",
      "\n",
      " ********************** Block 5  **********************\n",
      "|\t\tinScales 2 outScales 2 inChannels 47 outChannels 6\t\t|\n",
      "\n",
      "|\t\tinScales 2 outScales 2 inChannels 53 outChannels 6\t\t|\n",
      "\n",
      " ********************** Block 6  **********************\n",
      "|\t\tinScales 2 outScales 1 inChannels 59 outChannels 6\t\t|\n",
      "|\t\tTransition layer inserted! (max), inChannels 65, outChannels 32\t|\n",
      "\n",
      "|\t\tinScales 1 outScales 1 inChannels 32 outChannels 6\t\t|\n",
      "\n",
      " ********************** Block 7  **********************\n",
      "|\t\tinScales 1 outScales 1 inChannels 38 outChannels 6\t\t|\n",
      "\n",
      "|\t\tinScales 1 outScales 1 inChannels 44 outChannels 6\t\t|\n",
      "\n",
      "building network of steps: \n",
      "[4, 2, 2, 2, 2, 2, 2] 16\n",
      " ********************** Block 1  **********************\n",
      "|\t\tinScales 3 outScales 3 inChannels 16 outChannels 6\t\t|\n",
      "\n",
      "|\t\tinScales 3 outScales 3 inChannels 22 outChannels 6\t\t|\n",
      "\n",
      "|\t\tinScales 3 outScales 3 inChannels 28 outChannels 6\t\t|\n",
      "\n",
      "|\t\tinScales 3 outScales 3 inChannels 34 outChannels 6\t\t|\n",
      "\n",
      " ********************** Block 2  **********************\n",
      "|\t\tinScales 3 outScales 3 inChannels 40 outChannels 6\t\t|\n",
      "\n",
      "|\t\tinScales 3 outScales 3 inChannels 46 outChannels 6\t\t|\n",
      "\n",
      " ********************** Block 3  **********************\n",
      "|\t\tinScales 3 outScales 2 inChannels 52 outChannels 6\t\t|\n",
      "|\t\tTransition layer inserted! (max), inChannels 58, outChannels 29\t|\n",
      "\n",
      "|\t\tinScales 2 outScales 2 inChannels 29 outChannels 6\t\t|\n",
      "\n",
      " ********************** Block 4  **********************\n",
      "|\t\tinScales 2 outScales 2 inChannels 35 outChannels 6\t\t|\n",
      "\n",
      "|\t\tinScales 2 outScales 2 inChannels 41 outChannels 6\t\t|\n",
      "\n",
      " ********************** Block 5  **********************\n",
      "|\t\tinScales 2 outScales 2 inChannels 47 outChannels 6\t\t|\n",
      "\n",
      "|\t\tinScales 2 outScales 2 inChannels 53 outChannels 6\t\t|\n",
      "\n",
      " ********************** Block 6  **********************\n",
      "|\t\tinScales 2 outScales 1 inChannels 59 outChannels 6\t\t|\n",
      "|\t\tTransition layer inserted! (max), inChannels 65, outChannels 32\t|\n",
      "\n",
      "|\t\tinScales 1 outScales 1 inChannels 32 outChannels 6\t\t|\n",
      "\n",
      " ********************** Block 7  **********************\n",
      "|\t\tinScales 1 outScales 1 inChannels 38 outChannels 6\t\t|\n",
      "\n",
      "|\t\tinScales 1 outScales 1 inChannels 44 outChannels 6\t\t|\n",
      "\n",
      "building network of steps: \n",
      "[4, 2, 2, 2, 2, 2, 2] 16\n",
      " ********************** Block 1  **********************\n",
      "|\t\tinScales 3 outScales 3 inChannels 16 outChannels 6\t\t|\n",
      "\n",
      "|\t\tinScales 3 outScales 3 inChannels 22 outChannels 6\t\t|\n",
      "\n",
      "|\t\tinScales 3 outScales 3 inChannels 28 outChannels 6\t\t|\n",
      "\n",
      "|\t\tinScales 3 outScales 3 inChannels 34 outChannels 6\t\t|\n",
      "\n",
      " ********************** Block 2  **********************\n",
      "|\t\tinScales 3 outScales 3 inChannels 40 outChannels 6\t\t|\n",
      "\n",
      "|\t\tinScales 3 outScales 3 inChannels 46 outChannels 6\t\t|\n",
      "\n",
      " ********************** Block 3  **********************\n",
      "|\t\tinScales 3 outScales 2 inChannels 52 outChannels 6\t\t|\n",
      "|\t\tTransition layer inserted! (max), inChannels 58, outChannels 29\t|\n",
      "\n",
      "|\t\tinScales 2 outScales 2 inChannels 29 outChannels 6\t\t|\n",
      "\n",
      " ********************** Block 4  **********************\n",
      "|\t\tinScales 2 outScales 2 inChannels 35 outChannels 6\t\t|\n",
      "\n",
      "|\t\tinScales 2 outScales 2 inChannels 41 outChannels 6\t\t|\n",
      "\n",
      " ********************** Block 5  **********************\n",
      "|\t\tinScales 2 outScales 2 inChannels 47 outChannels 6\t\t|\n",
      "\n",
      "|\t\tinScales 2 outScales 2 inChannels 53 outChannels 6\t\t|\n",
      "\n",
      " ********************** Block 6  **********************\n",
      "|\t\tinScales 2 outScales 1 inChannels 59 outChannels 6\t\t|\n",
      "|\t\tTransition layer inserted! (max), inChannels 65, outChannels 32\t|\n",
      "\n",
      "|\t\tinScales 1 outScales 1 inChannels 32 outChannels 6\t\t|\n",
      "\n",
      " ********************** Block 7  **********************\n",
      "|\t\tinScales 1 outScales 1 inChannels 38 outChannels 6\t\t|\n",
      "\n",
      "|\t\tinScales 1 outScales 1 inChannels 44 outChannels 6\t\t|\n",
      "\n",
      "building network of steps: \n",
      "[4, 2, 2, 2, 2, 2, 2] 16\n",
      " ********************** Block 1  **********************\n",
      "|\t\tinScales 3 outScales 3 inChannels 16 outChannels 6\t\t|\n",
      "\n",
      "|\t\tinScales 3 outScales 3 inChannels 22 outChannels 6\t\t|\n",
      "\n",
      "|\t\tinScales 3 outScales 3 inChannels 28 outChannels 6\t\t|\n",
      "\n",
      "|\t\tinScales 3 outScales 3 inChannels 34 outChannels 6\t\t|\n",
      "\n",
      " ********************** Block 2  **********************\n",
      "|\t\tinScales 3 outScales 3 inChannels 40 outChannels 6\t\t|\n",
      "\n",
      "|\t\tinScales 3 outScales 3 inChannels 46 outChannels 6\t\t|\n",
      "\n",
      " ********************** Block 3  **********************\n",
      "|\t\tinScales 3 outScales 2 inChannels 52 outChannels 6\t\t|\n",
      "|\t\tTransition layer inserted! (max), inChannels 58, outChannels 29\t|\n",
      "\n",
      "|\t\tinScales 2 outScales 2 inChannels 29 outChannels 6\t\t|\n",
      "\n",
      " ********************** Block 4  **********************\n",
      "|\t\tinScales 2 outScales 2 inChannels 35 outChannels 6\t\t|\n",
      "\n",
      "|\t\tinScales 2 outScales 2 inChannels 41 outChannels 6\t\t|\n",
      "\n",
      " ********************** Block 5  **********************\n",
      "|\t\tinScales 2 outScales 2 inChannels 47 outChannels 6\t\t|\n",
      "\n",
      "|\t\tinScales 2 outScales 2 inChannels 53 outChannels 6\t\t|\n",
      "\n",
      " ********************** Block 6  **********************\n",
      "|\t\tinScales 2 outScales 1 inChannels 59 outChannels 6\t\t|\n",
      "|\t\tTransition layer inserted! (max), inChannels 65, outChannels 32\t|\n",
      "\n",
      "|\t\tinScales 1 outScales 1 inChannels 32 outChannels 6\t\t|\n",
      "\n",
      " ********************** Block 7  **********************\n",
      "|\t\tinScales 1 outScales 1 inChannels 38 outChannels 6\t\t|\n",
      "\n",
      "|\t\tinScales 1 outScales 1 inChannels 44 outChannels 6\t\t|\n",
      "\n",
      "building network of steps: \n",
      "[4, 2, 2, 2, 2, 2, 2] 16\n",
      " ********************** Block 1  **********************\n",
      "|\t\tinScales 3 outScales 3 inChannels 16 outChannels 6\t\t|\n",
      "\n",
      "|\t\tinScales 3 outScales 3 inChannels 22 outChannels 6\t\t|\n",
      "\n",
      "|\t\tinScales 3 outScales 3 inChannels 28 outChannels 6\t\t|\n",
      "\n",
      "|\t\tinScales 3 outScales 3 inChannels 34 outChannels 6\t\t|\n",
      "\n",
      " ********************** Block 2  **********************\n",
      "|\t\tinScales 3 outScales 3 inChannels 40 outChannels 6\t\t|\n",
      "\n",
      "|\t\tinScales 3 outScales 3 inChannels 46 outChannels 6\t\t|\n",
      "\n",
      " ********************** Block 3  **********************\n",
      "|\t\tinScales 3 outScales 2 inChannels 52 outChannels 6\t\t|\n",
      "|\t\tTransition layer inserted! (max), inChannels 58, outChannels 29\t|\n",
      "\n",
      "|\t\tinScales 2 outScales 2 inChannels 29 outChannels 6\t\t|\n",
      "\n",
      " ********************** Block 4  **********************\n",
      "|\t\tinScales 2 outScales 2 inChannels 35 outChannels 6\t\t|\n",
      "\n",
      "|\t\tinScales 2 outScales 2 inChannels 41 outChannels 6\t\t|\n",
      "\n",
      " ********************** Block 5  **********************\n",
      "|\t\tinScales 2 outScales 2 inChannels 47 outChannels 6\t\t|\n",
      "\n",
      "|\t\tinScales 2 outScales 2 inChannels 53 outChannels 6\t\t|\n",
      "\n",
      " ********************** Block 6  **********************\n",
      "|\t\tinScales 2 outScales 1 inChannels 59 outChannels 6\t\t|\n",
      "|\t\tTransition layer inserted! (max), inChannels 65, outChannels 32\t|\n",
      "\n",
      "|\t\tinScales 1 outScales 1 inChannels 32 outChannels 6\t\t|\n",
      "\n",
      " ********************** Block 7  **********************\n",
      "|\t\tinScales 1 outScales 1 inChannels 38 outChannels 6\t\t|\n",
      "\n",
      "|\t\tinScales 1 outScales 1 inChannels 44 outChannels 6\t\t|\n",
      "\n",
      "building network of steps: \n",
      "[4, 2, 2, 2, 2, 2, 2] 16\n",
      " ********************** Block 1  **********************\n",
      "|\t\tinScales 3 outScales 3 inChannels 16 outChannels 6\t\t|\n",
      "\n",
      "|\t\tinScales 3 outScales 3 inChannels 22 outChannels 6\t\t|\n",
      "\n",
      "|\t\tinScales 3 outScales 3 inChannels 28 outChannels 6\t\t|\n",
      "\n",
      "|\t\tinScales 3 outScales 3 inChannels 34 outChannels 6\t\t|\n",
      "\n",
      " ********************** Block 2  **********************\n",
      "|\t\tinScales 3 outScales 3 inChannels 40 outChannels 6\t\t|\n",
      "\n",
      "|\t\tinScales 3 outScales 3 inChannels 46 outChannels 6\t\t|\n",
      "\n",
      " ********************** Block 3  **********************\n",
      "|\t\tinScales 3 outScales 2 inChannels 52 outChannels 6\t\t|\n",
      "|\t\tTransition layer inserted! (max), inChannels 58, outChannels 29\t|\n",
      "\n",
      "|\t\tinScales 2 outScales 2 inChannels 29 outChannels 6\t\t|\n",
      "\n",
      " ********************** Block 4  **********************\n",
      "|\t\tinScales 2 outScales 2 inChannels 35 outChannels 6\t\t|\n",
      "\n",
      "|\t\tinScales 2 outScales 2 inChannels 41 outChannels 6\t\t|\n",
      "\n",
      " ********************** Block 5  **********************\n",
      "|\t\tinScales 2 outScales 2 inChannels 47 outChannels 6\t\t|\n",
      "\n",
      "|\t\tinScales 2 outScales 2 inChannels 53 outChannels 6\t\t|\n",
      "\n",
      " ********************** Block 6  **********************\n",
      "|\t\tinScales 2 outScales 1 inChannels 59 outChannels 6\t\t|\n",
      "|\t\tTransition layer inserted! (max), inChannels 65, outChannels 32\t|\n",
      "\n",
      "|\t\tinScales 1 outScales 1 inChannels 32 outChannels 6\t\t|\n",
      "\n",
      " ********************** Block 7  **********************\n",
      "|\t\tinScales 1 outScales 1 inChannels 38 outChannels 6\t\t|\n",
      "\n",
      "|\t\tinScales 1 outScales 1 inChannels 44 outChannels 6\t\t|\n",
      "\n",
      "building network of steps: \n",
      "[4, 2, 2, 2, 2, 2, 2] 16\n",
      " ********************** Block 1  **********************\n",
      "|\t\tinScales 3 outScales 3 inChannels 16 outChannels 6\t\t|\n",
      "\n",
      "|\t\tinScales 3 outScales 3 inChannels 22 outChannels 6\t\t|\n",
      "\n",
      "|\t\tinScales 3 outScales 3 inChannels 28 outChannels 6\t\t|\n",
      "\n",
      "|\t\tinScales 3 outScales 3 inChannels 34 outChannels 6\t\t|\n",
      "\n",
      " ********************** Block 2  **********************\n",
      "|\t\tinScales 3 outScales 3 inChannels 40 outChannels 6\t\t|\n",
      "\n",
      "|\t\tinScales 3 outScales 3 inChannels 46 outChannels 6\t\t|\n",
      "\n",
      " ********************** Block 3  **********************\n",
      "|\t\tinScales 3 outScales 2 inChannels 52 outChannels 6\t\t|\n",
      "|\t\tTransition layer inserted! (max), inChannels 58, outChannels 29\t|\n",
      "\n",
      "|\t\tinScales 2 outScales 2 inChannels 29 outChannels 6\t\t|\n",
      "\n",
      " ********************** Block 4  **********************\n",
      "|\t\tinScales 2 outScales 2 inChannels 35 outChannels 6\t\t|\n",
      "\n",
      "|\t\tinScales 2 outScales 2 inChannels 41 outChannels 6\t\t|\n",
      "\n",
      " ********************** Block 5  **********************\n",
      "|\t\tinScales 2 outScales 2 inChannels 47 outChannels 6\t\t|\n",
      "\n",
      "|\t\tinScales 2 outScales 2 inChannels 53 outChannels 6\t\t|\n",
      "\n",
      " ********************** Block 6  **********************\n",
      "|\t\tinScales 2 outScales 1 inChannels 59 outChannels 6\t\t|\n",
      "|\t\tTransition layer inserted! (max), inChannels 65, outChannels 32\t|\n",
      "\n",
      "|\t\tinScales 1 outScales 1 inChannels 32 outChannels 6\t\t|\n",
      "\n",
      " ********************** Block 7  **********************\n",
      "|\t\tinScales 1 outScales 1 inChannels 38 outChannels 6\t\t|\n",
      "\n",
      "|\t\tinScales 1 outScales 1 inChannels 44 outChannels 6\t\t|\n",
      "\n"
     ]
    }
   ],
   "source": [
    "L = 7\n",
    "\n",
    "models_exit = []\n",
    "for l in range(L):\n",
    "    model_l, ARGS = init_model(DATASET, 'models_seed_1', 'softmax', 299, MSDNet_exit, exit=l+1, cuda=True)\n",
    "    models_exit.append(model_l)"
   ]
  },
  {
   "cell_type": "code",
   "execution_count": 6,
   "metadata": {},
   "outputs": [
    {
     "data": {
      "text/plain": [
       "Namespace(C_mono=0.0, alpha=1.0, arch='msdnet', base=4, batch_size=64, bnFactor=[1, 2, 4], bottleneck=True, clip_grad=0.0, data='cifar10', data_root='data', decay_rate=0.1, ensemble_type='DE', epochs=300, evalmode=None, evaluate_from=None, gpu=None, grFactor=[1, 2, 4], growthRate=6, image_net_train='train', image_net_val='val', j=16, likelihood='softmax', loss_type='standard', lr=0.1, lr_type='multistep', momentum=0.9, mono_penal=0.0, nBlocks=7, nChannels=16, nScales=3, num_classes=10, optimizer='sgd', precision=1000.0, pretrained_epoch='150', pretrained_model=None, print_freq=10, prod_act_func='relu', prod_eps=0.01, prod_eps_log=1e-20, prune='max', reduction=0.5, restart_lr=False, resume=False, save='/home/mona/Desktop/MSDNet-PyTorch/models_cifar_10/models_seed_1', schedule_T_end=16.0, schedule_T_start=2.0, schedule_T_type='sigmoid', seed=0, splits=['train', 'val', 'test'], start_epoch=0, step=2, stepmode='even', stop_grad=False, temp_diff=False, use_valid=True, weight_decay=0.0001, workers=4)"
      ]
     },
     "execution_count": 6,
     "metadata": {},
     "output_type": "execute_result"
    }
   ],
   "source": [
    "ARGS"
   ]
  },
  {
   "cell_type": "code",
   "execution_count": 7,
   "metadata": {},
   "outputs": [
    {
     "name": "stdout",
     "output_type": "stream",
     "text": [
      "Files already downloaded and verified\n",
      "Files already downloaded and verified\n",
      "!!!!!! Load train_set_index !!!!!!\n"
     ]
    }
   ],
   "source": [
    "train_dataloader, _, test_dataloader = get_dataloaders(ARGS)"
   ]
  },
  {
   "cell_type": "code",
   "execution_count": 6,
   "metadata": {},
   "outputs": [],
   "source": [
    "# LAs = []\n",
    "# for l in range(L):\n",
    "#     la = Laplace(models_exit[l], 'classification', subset_of_weights='last_layer', hessian_structure='full')\n",
    "#     # la = FullLLLaplaceBridge(models_exit[l], 'classification')\n",
    "#     la.fit(train_dataloader)\n",
    "\n",
    "#     log_prior = torch.ones(1, requires_grad=True)\n",
    "#     hyper_optimizer = torch.optim.Adam([log_prior], lr=1e-1)\n",
    "#     for i in range(100):\n",
    "#         hyper_optimizer.zero_grad()\n",
    "#         neg_marglik = - la.log_marginal_likelihood(log_prior.exp())\n",
    "#         neg_marglik.backward()\n",
    "#         hyper_optimizer.step()\n",
    "#         if i % 10 == 0:\n",
    "#             print(f\"Epoch {i} | neg_marglik: {neg_marglik.item():.4f}\")\n",
    "            \n",
    "#     LAs.append(la)"
   ]
  },
  {
   "cell_type": "code",
   "execution_count": null,
   "metadata": {},
   "outputs": [],
   "source": [
    "# LAs_prior_precision = [la.prior_precision.item() for la in LAs]\n",
    "# pickle.dump(LAs_prior_precision, open('LAs_prior_precision.p', 'wb'))"
   ]
  },
  {
   "cell_type": "code",
   "execution_count": 8,
   "metadata": {},
   "outputs": [],
   "source": [
    "# read LAs_prior_precision.p\n",
    "LAs_prior_precision = pickle.load(open('LAs_prior_precision.p', 'rb'))"
   ]
  },
  {
   "cell_type": "code",
   "execution_count": 9,
   "metadata": {},
   "outputs": [
    {
     "name": "stdout",
     "output_type": "stream",
     "text": [
      "0\n",
      "1\n",
      "2\n",
      "3\n",
      "4\n",
      "5\n",
      "6\n"
     ]
    }
   ],
   "source": [
    "LAs = []\n",
    "for l in range(L):\n",
    "    print(l)\n",
    "    la = Laplace(models_exit[l], 'classification', subset_of_weights='last_layer', hessian_structure='full')\n",
    "    # la = FullLLLaplaceBridge(models_exit[l], 'classification')\n",
    "    la.fit(train_dataloader)\n",
    "    la.prior_precision = LAs_prior_precision[l]\n",
    "    LAs.append(la)"
   ]
  },
  {
   "cell_type": "code",
   "execution_count": 10,
   "metadata": {},
   "outputs": [],
   "source": [
    "pred_type='glm'\n",
    "# pred_type='nn'\n",
    "link_approx='mc'\n",
    "# link_approx='bridge_norm'\n",
    "n_samples_num=100\n",
    "\n",
    "\n",
    "pred_type_denom='glm'\n",
    "link_approx_denom='mc'\n",
    "n_samples_denom=1"
   ]
  },
  {
   "cell_type": "code",
   "execution_count": 34,
   "metadata": {},
   "outputs": [],
   "source": [
    "probs_num = []\n",
    "probs_denom = []\n",
    "for l in range(L):\n",
    "    probs_num_l = []\n",
    "    probs_denom_l = []\n",
    "    targets = []\n",
    "    with torch.no_grad():\n",
    "        for i, (x, y) in enumerate(test_dataloader):\n",
    "            \n",
    "            y = y.cuda()\n",
    "            x = x.cuda()\n",
    "\n",
    "            input_var = torch.autograd.Variable(x)\n",
    "            target_var = torch.autograd.Variable(y)\n",
    "\n",
    "            output_num = LAs[l](input_var, n_samples=n_samples_num, pred_type=pred_type, link_approx=link_approx)\n",
    "            output_denom = LAs[l](input_var, n_samples=n_samples_denom, pred_type=pred_type_denom, link_approx=link_approx_denom)\n",
    "\n",
    "            probs_num_l.append(output_num)\n",
    "            probs_denom_l.append(output_denom)\n",
    "            targets.append(target_var)\n",
    "\n",
    "    probs_num_l = torch.cat(probs_num_l, dim=0).cpu()\n",
    "    probs_denom_l = torch.cat(probs_denom_l, dim=0).cpu()\n",
    "    targets = torch.cat(targets).cpu()\n",
    "    probs_num.append(probs_num_l)\n",
    "    probs_denom.append(probs_denom_l)\n",
    "\n",
    "probs_num = torch.stack(probs_num, dim=0)\n",
    "probs_denom = torch.stack(probs_denom, dim=0)"
   ]
  },
  {
   "cell_type": "code",
   "execution_count": 35,
   "metadata": {},
   "outputs": [
    {
     "data": {
      "text/plain": [
       "[tensor(0.8966),\n",
       " tensor(0.9081),\n",
       " tensor(0.9186),\n",
       " tensor(0.9227),\n",
       " tensor(0.9231),\n",
       " tensor(0.9257),\n",
       " tensor(0.9258)]"
      ]
     },
     "execution_count": 35,
     "metadata": {},
     "output_type": "execute_result"
    }
   ],
   "source": [
    "preds = get_preds_per_exit(probs_num)\n",
    "acc = get_acc_per_exit(preds, targets)\n",
    "acc"
   ]
  },
  {
   "cell_type": "code",
   "execution_count": 43,
   "metadata": {},
   "outputs": [],
   "source": [
    "# LAPLACE baseline for classification (credible sets)\n",
    "\n",
    "alpha = 0.05\n",
    "L, N, C = probs_num.shape\n",
    "probs_num = probs_num.numpy()\n",
    "\n",
    "cred_sets = []\n",
    "for n in range(N):\n",
    "    cred_sets_n = []\n",
    "    for l in range(L):\n",
    "        sorted_classes = np.argsort(probs_num[l, n])[::-1]\n",
    "        cum_sum = np.cumsum(probs_num[l, n, sorted_classes])\n",
    "        num_classes_to_include = np.where(cum_sum >= 1 - alpha)[0][0] + 1\n",
    "        cred_sets_n.append(sorted_classes[:num_classes_to_include].tolist())\n",
    "    cred_sets.append(cred_sets_n)"
   ]
  },
  {
   "cell_type": "code",
   "execution_count": 55,
   "metadata": {},
   "outputs": [],
   "source": [
    "cred_sets_intersect = []\n",
    "for i in range(N):\n",
    "    cred_sets_intersect.append(running_intersection_classification(cred_sets[i]))"
   ]
  },
  {
   "cell_type": "code",
   "execution_count": 52,
   "metadata": {},
   "outputs": [],
   "source": [
    "sizes_cred = []\n",
    "coverage_cred = []\n",
    "for i in range(N):\n",
    "    sizes_cred.append([len(cred_sets[i][l]) for l in range(L)])\n",
    "    coverage_cred.append([targets[i] in cred_sets[i][l] for l in range(L)])\n",
    "\n",
    "consistency_cred = np.array([consistency_classifciation(cred_sets[i]) for i in range(N)])\n",
    "sizes_cred = np.array(sizes_cred)\n",
    "coverage_cred = np.array(coverage_cred)"
   ]
  },
  {
   "cell_type": "code",
   "execution_count": 50,
   "metadata": {},
   "outputs": [
    {
     "data": {
      "text/plain": [
       "array([1.2844, 1.2303, 1.1996, 1.1937, 1.1904, 1.1857, 1.1803])"
      ]
     },
     "execution_count": 50,
     "metadata": {},
     "output_type": "execute_result"
    }
   ],
   "source": [
    "sizes_cred.mean(axis=0)"
   ]
  },
  {
   "cell_type": "code",
   "execution_count": 51,
   "metadata": {},
   "outputs": [
    {
     "data": {
      "text/plain": [
       "array([0.9599, 0.9627, 0.9654, 0.9675, 0.9685, 0.9688, 0.9691])"
      ]
     },
     "execution_count": 51,
     "metadata": {},
     "output_type": "execute_result"
    }
   ],
   "source": [
    "coverage_cred.mean(axis=0)"
   ]
  },
  {
   "cell_type": "code",
   "execution_count": 54,
   "metadata": {},
   "outputs": [
    {
     "data": {
      "text/plain": [
       "array([1.        , 0.95567667, 0.94185262, 0.93620583, 0.9328019 ,\n",
       "       0.93084833, 0.93020333])"
      ]
     },
     "execution_count": 54,
     "metadata": {},
     "output_type": "execute_result"
    }
   ],
   "source": [
    "consistency_cred.mean(axis=0)"
   ]
  },
  {
   "cell_type": "code",
   "execution_count": 56,
   "metadata": {},
   "outputs": [],
   "source": [
    "sizes_cred_intersect = []\n",
    "coverage_cred_intersect = []\n",
    "for i in range(N):\n",
    "    sizes_cred_intersect.append([len(cred_sets_intersect[i][l]) for l in range(L)])\n",
    "    coverage_cred_intersect.append([targets[i] in cred_sets_intersect[i][l] for l in range(L)])\n",
    "\n",
    "consistency_cred_intersect = np.array([consistency_classifciation(cred_sets_intersect[i]) for i in range(N)])\n",
    "sizes_cred_intersect = np.array(sizes_cred_intersect)\n",
    "coverage_cred_intersect = np.array(coverage_cred_intersect)"
   ]
  },
  {
   "cell_type": "code",
   "execution_count": 57,
   "metadata": {},
   "outputs": [
    {
     "data": {
      "text/plain": [
       "array([1.2844, 1.1192, 1.0591, 1.0398, 1.0285, 1.0191, 1.0144])"
      ]
     },
     "execution_count": 57,
     "metadata": {},
     "output_type": "execute_result"
    }
   ],
   "source": [
    "sizes_cred_intersect.mean(axis=0)"
   ]
  },
  {
   "cell_type": "code",
   "execution_count": 58,
   "metadata": {},
   "outputs": [
    {
     "data": {
      "text/plain": [
       "array([0.9599, 0.9455, 0.9373, 0.933 , 0.9304, 0.928 , 0.927 ])"
      ]
     },
     "execution_count": 58,
     "metadata": {},
     "output_type": "execute_result"
    }
   ],
   "source": [
    "coverage_cred_intersect.mean(axis=0)"
   ]
  },
  {
   "cell_type": "code",
   "execution_count": 59,
   "metadata": {},
   "outputs": [
    {
     "data": {
      "text/plain": [
       "array([1., 1., 1., 1., 1., 1., 1.])"
      ]
     },
     "execution_count": 59,
     "metadata": {},
     "output_type": "execute_result"
    }
   ],
   "source": [
    "consistency_cred_intersect.mean(axis=0)"
   ]
  },
  {
   "cell_type": "code",
   "execution_count": null,
   "metadata": {},
   "outputs": [],
   "source": [
    "# torch.save((probs_num, probs_denom, targets), f\"eenn_avcs_results/cifar10/nn_mc_100.pth\")\n",
    "# probs_num, probs_denom, targets = torch.load(\"eenn_avcs_results/cifar10/nn_mc_100.pth\")  \n",
    "\n",
    "# torch.save((probs_num, probs_denom, targets), f\"eenn_avcs_results/cifar10/glm_mc_100.pth\")\n",
    "# probs_num, probs_denom, targets = torch.load(\"eenn_avcs_results/cifar10/glm_mc_100.pth\")"
   ]
  },
  {
   "cell_type": "code",
   "execution_count": 36,
   "metadata": {},
   "outputs": [],
   "source": [
    "alpha = 0.1\n",
    "L, N, C = probs_num.shape\n",
    "\n",
    "# MC\n",
    "R_all = torch.div(probs_num, probs_denom).cumprod(axis=0)\n",
    "C_all = []\n",
    "for i in range(N):\n",
    "    R_i = R_all[:, i, :].cpu().numpy()\n",
    "    C_i = [list(np.where(row <= 1 / alpha)[0]) for row in R_i]\n",
    "    C_all.append(running_intersection_classification(C_i))\n",
    "\n",
    "# # Laplace Bridge\n",
    "# C_all = [avcs_classification(probs_num[:, i, :].detach().numpy(), alpha=alpha, S=1) for i in range(N)]"
   ]
  },
  {
   "cell_type": "code",
   "execution_count": 40,
   "metadata": {},
   "outputs": [
    {
     "data": {
      "text/plain": [
       "(10000, 7)"
      ]
     },
     "execution_count": 40,
     "metadata": {},
     "output_type": "execute_result"
    }
   ],
   "source": []
  },
  {
   "cell_type": "code",
   "execution_count": null,
   "metadata": {},
   "outputs": [],
   "source": [
    "sizes = []\n",
    "coverage = []\n",
    "for i in range(N):\n",
    "    sizes.append([len(C_all[i][l]) for l in range(L)])\n",
    "    coverage.append([targets[i] in C_all[i][l] for l in range(L)])\n",
    "\n",
    "sizes = np.array(sizes)\n",
    "coverage = np.array(coverage)"
   ]
  },
  {
   "cell_type": "code",
   "execution_count": null,
   "metadata": {},
   "outputs": [
    {
     "data": {
      "text/plain": [
       "array([9.409 , 8.4258, 6.4113, 5.0137, 4.2833, 3.8337, 3.5231])"
      ]
     },
     "execution_count": 60,
     "metadata": {},
     "output_type": "execute_result"
    }
   ],
   "source": [
    "sizes.mean(axis=0)"
   ]
  },
  {
   "cell_type": "code",
   "execution_count": null,
   "metadata": {},
   "outputs": [],
   "source": [
    "# _, _, conf_sets, conf_labels = raps_eenn(probs_num.cpu().numpy(), targets, alpha=alpha, disallow_zero_sets=True)\n",
    "_, _, conf_sets, conf_labels = raps_eenn(probs.cpu().numpy(), targets, alpha=alpha, disallow_zero_sets=True)\n",
    "conf_sets = [[list(np.where(conf_sets[l][i])[0]) for l in range(L)] for i in range(len(conf_sets[0]))]\n",
    "conf_sets_intersect = [running_intersection_classification(conf_sets[i]) for i in range(len(conf_sets))]\n",
    "\n",
    "conf_sets_sizes = np.array([[len(conf_sets[i][l]) for l in range(L)] for i in range(len(conf_sets))])\n",
    "conf_sets_coverage = np.array([[conf_labels[0][i] in conf_sets[i][l] for l in range(L)] for i in range(len(conf_sets))])\n",
    "\n",
    "conf_sets_intersect_sizes = np.array([[len(conf_sets_intersect[i][l]) for l in range(L)] for i in range(len(conf_sets_intersect))])\n",
    "conf_sets_intersect_coverage = np.array([[conf_labels[0][i] in conf_sets_intersect[i][l] for l in range(L)] for i in range(len(conf_sets_intersect))])"
   ]
  },
  {
   "cell_type": "code",
   "execution_count": null,
   "metadata": {},
   "outputs": [],
   "source": [
    "consistency_conformal = np.array([consistency_classifciation(conf_sets[i]) for i in range(len(conf_sets))])\n",
    "consistency_conformal_intersect = np.array([consistency_classifciation(conf_sets_intersect[i]) for i in range(len(conf_sets_intersect))])\n",
    "consistency_avcs = np.array([consistency_classifciation(C_all[i]) for i in range(N)])"
   ]
  },
  {
   "cell_type": "code",
   "execution_count": null,
   "metadata": {},
   "outputs": [
    {
     "data": {
      "text/plain": [
       "((8000, 7), (8000, 7), (10000, 7))"
      ]
     },
     "execution_count": 63,
     "metadata": {},
     "output_type": "execute_result"
    }
   ],
   "source": [
    "consistency_conformal.shape, consistency_conformal_intersect.shape, consistency_avcs.shape"
   ]
  },
  {
   "cell_type": "code",
   "execution_count": null,
   "metadata": {},
   "outputs": [
    {
     "data": {
      "image/png": "[encoded data removed]",
      "text/plain": [
       "<Figure size 800x400 with 1 Axes>"
      ]
     },
     "metadata": {},
     "output_type": "display_data"
    }
   ],
   "source": [
    "fig, ax = plt.subplots(figsize=(8, 4))\n",
    "exits = [l + 1 for l in range(L)]\n",
    "\n",
    "ax.plot(exits, sizes.mean(axis=0), label=f'EENN-AVCS ({pred_type}, mc, 100)')\n",
    "ax.fill_between(exits, sizes.mean(axis=0) - sizes.std(axis=0), sizes.mean(axis=0) + sizes.std(axis=0), alpha=0.3)\n",
    "\n",
    "\n",
    "ax.plot(exits, conf_sets_sizes.mean(axis=0), label='RAPS')\n",
    "ax.fill_between(exits, conf_sets_sizes.mean(axis=0) - conf_sets_sizes.std(axis=0), conf_sets_sizes.mean(axis=0) + conf_sets_sizes.std(axis=0), alpha=0.3)\n",
    "\n",
    "ax.plot(exits, conf_sets_intersect_sizes.mean(axis=0), label='RAPS (intersect)')\n",
    "ax.fill_between(exits, conf_sets_intersect_sizes.mean(axis=0) - conf_sets_intersect_sizes.std(axis=0), conf_sets_intersect_sizes.mean(axis=0) + conf_sets_intersect_sizes.std(axis=0), alpha=0.3)\n",
    "\n",
    "ax.set_xlabel('Exit')\n",
    "ax.set_ylabel('Set Size')\n",
    "ax.set_xlim([1, L])\n",
    "ax.legend()\n",
    "\n",
    "plt.show()"
   ]
  },
  {
   "cell_type": "code",
   "execution_count": null,
   "metadata": {},
   "outputs": [
    {
     "data": {
      "image/png": "[encoded data removed]",
      "text/plain": [
       "<Figure size 800x600 with 1 Axes>"
      ]
     },
     "metadata": {},
     "output_type": "display_data"
    }
   ],
   "source": [
    "fig, ax = plt.subplots(figsize=(8, 6))\n",
    "exits = [l + 1 for l in range(L)]\n",
    "\n",
    "\n",
    "ax.plot(exits, coverage.mean(axis=0), label=f'EENN-AVCS ({pred_type}, mc, 100)')\n",
    "ax.plot(exits, conf_sets_coverage.mean(axis=0), label='RAPS')\n",
    "ax.plot(exits, conf_sets_intersect_coverage.mean(axis=0), label='RAPS (intersect)')\n",
    "\n",
    "ax.axhline(y=1 - alpha, color='black', linestyle='--')\n",
    "\n",
    "ax.set_xlabel('Exit')\n",
    "ax.set_ylabel('Marginal Coverage')\n",
    "\n",
    "ax.set_ylim([0.85, 1.01])\n",
    "ax.set_xlim([1, L])\n",
    "ax.legend()\n",
    "\n",
    "plt.show()"
   ]
  },
  {
   "cell_type": "code",
   "execution_count": null,
   "metadata": {},
   "outputs": [
    {
     "data": {
      "image/png": "[encoded data removed]",
      "text/plain": [
       "<Figure size 800x400 with 1 Axes>"
      ]
     },
     "metadata": {},
     "output_type": "display_data"
    }
   ],
   "source": [
    "fig, ax = plt.subplots(figsize=(8, 4))\n",
    "exits = [l + 1 for l in range(L)]\n",
    "\n",
    "ax.plot(exits, consistency_avcs.mean(axis=0), label=f'EENN-AVCS ({pred_type}, mc, 100)')\n",
    "ax.plot(exits, consistency_conformal.mean(axis=0), label='RAPS')\n",
    "ax.plot(exits, consistency_conformal_intersect.mean(axis=0), label='RAPS (intersect)')\n",
    "\n",
    "ax.set_xlabel('Exit')\n",
    "ax.set_ylabel('Consistency')\n",
    "\n",
    "ax.set_ylim([0.9, 1.01])\n",
    "ax.set_xlim([1, L])\n",
    "ax.legend()\n",
    "\n",
    "plt.show()"
   ]
  },
  {
   "cell_type": "code",
   "execution_count": null,
   "metadata": {},
   "outputs": [
    {
     "name": "stdout",
     "output_type": "stream",
     "text": [
      "[1. 1. 1. 1. 1. 1. 1.] [[3], [3], [3], [3], [3], [3], [3]] 3\n",
      "[1. 1. 1. 1. 1. 1. 1.] [[8], [8], [8], [8], [8], [8], [8]] 8\n",
      "[1. 1. 1. 1. 1. 1. 1.] [[6], [6], [6], [6], [6], [6], [6]] 8\n",
      "[1. 1. 1. 1. 1. 1. 1.] [[6], [6], [6], [6], [6], [6], [6]] 0\n",
      "[1. 1. 1. 1. 1. 1. 1.] [[3], [3], [3], [3], [3], [3], [3]] 6\n",
      "[1. 1. 1. 1. 1. 1. 1.] [[1], [1], [1], [1], [1], [1], [1]] 6\n",
      "[1. 1. 1. 1. 1. 1. 1.] [[0], [0], [0], [0], [0], [0], [0]] 1\n",
      "[1. 1. 1. 1. 1. 1. 1.] [[5], [5], [5], [5], [5], [5], [5]] 6\n",
      "[1. 1. 1. 1. 1. 1. 1.] [[7], [7], [7], [7], [7], [7], [7]] 3\n",
      "[1. 1. 1. 1. 1. 1. 1.] [[9], [9], [9], [9], [9], [9], [9]] 1\n",
      "[1.  0.5 0.5 0.  0.  0.  0. ] [[6], [6, 8], [6, 8], [8], [8], [6], [8]] 0\n",
      "[1. 1. 1. 1. 1. 1. 1.] [[7], [7], [7], [7], [7], [7], [7]] 9\n",
      "[1. 1. 1. 1. 1. 1. 1.] [[6], [6], [6], [6], [6], [6], [6]] 5\n",
      "[1. 1. 1. 1. 1. 1. 1.] [[7], [7], [7], [7], [7], [7], [7]] 7\n",
      "[1. 1. 1. 1. 1. 1. 1.] [[0], [0], [0], [0], [0], [0], [0]] 9\n",
      "[1. 1. 1. 1. 1. 1. 1.] [[4], [4], [4], [4], [4], [4], [4]] 8\n",
      "[1. 1. 1. 1. 1. 1. 1.] [[9], [9], [9], [9], [9], [9], [9]] 5\n",
      "[1.  0.5 1.  1.  1.  1.  1. ] [[2], [2, 7], [2], [2], [2], [2], [2]] 7\n",
      "[1. 1. 1. 1. 1. 1. 1.] [[0], [0], [0], [0], [0], [0], [0]] 8\n",
      "[1. 1. 1. 1. 1. 1. 1.] [[9], [9], [9], [9], [9], [9], [9]] 6\n"
     ]
    }
   ],
   "source": [
    "for i in range(20):\n",
    "    print(consistency_conformal[i], conf_sets[i], targets[i].item())\n"
   ]
  },
  {
   "cell_type": "code",
   "execution_count": null,
   "metadata": {},
   "outputs": [],
   "source": []
  }
 ],
 "metadata": {
  "kernelspec": {
   "display_name": "laplace",
   "language": "python",
   "name": "python3"
  },
  "language_info": {
   "codemirror_mode": {
    "name": "ipython",
    "version": 3
   },
   "file_extension": ".py",
   "mimetype": "text/x-python",
   "name": "python",
   "nbconvert_exporter": "python",
   "pygments_lexer": "ipython3",
   "version": "3.8.18"
  },
  "orig_nbformat": 4
 },
 "nbformat": 4,
 "nbformat_minor": 2
}
