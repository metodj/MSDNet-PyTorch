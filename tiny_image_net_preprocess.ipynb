{
 "cells": [
  {
   "cell_type": "code",
   "execution_count": 1,
   "metadata": {},
   "outputs": [
    {
     "name": "stderr",
     "output_type": "stream",
     "text": [
      "/home/metod/miniconda3/envs/msdnet2/lib/python3.8/site-packages/tqdm/auto.py:21: TqdmWarning: IProgress not found. Please update jupyter and ipywidgets. See https://ipywidgets.readthedocs.io/en/stable/user_install.html\n",
      "  from .autonotebook import tqdm as notebook_tqdm\n"
     ]
    }
   ],
   "source": [
    "from dataloader import get_dataloaders\n",
    "from utils import parse_args\n",
    "import torch\n",
    "import torchvision.transforms as transforms\n",
    "import torchvision.datasets as datasets\n",
    "from datasets import load_dataset\n",
    "import numpy as np"
   ]
  },
  {
   "cell_type": "code",
   "execution_count": 2,
   "metadata": {},
   "outputs": [
    {
     "name": "stderr",
     "output_type": "stream",
     "text": [
      "Found cached dataset parquet (/home/metod/.cache/huggingface/datasets/Maysee___parquet/Maysee--tiny-imagenet-35af7c46a941f08e/0.0.0/2a3b91fbd88a2c90d1dbbb32b460cf621d31bd5b05b934492fdef7d8d6f236ec)\n"
     ]
    },
    {
     "data": {
      "image/png": "[encoded data removed]",
      "text/plain": [
       "<PIL.JpegImagePlugin.JpegImageFile image mode=RGB size=64x64>"
      ]
     },
     "execution_count": 2,
     "metadata": {},
     "output_type": "execute_result"
    }
   ],
   "source": [
    "tiny_imagenet_val = load_dataset('Maysee/tiny-imagenet', split='valid')\n",
    "tiny_imagenet_val[0]['image']"
   ]
  },
  {
   "cell_type": "code",
   "execution_count": 3,
   "metadata": {},
   "outputs": [
    {
     "name": "stderr",
     "output_type": "stream",
     "text": [
      "Found cached dataset parquet (/home/metod/.cache/huggingface/datasets/Maysee___parquet/Maysee--tiny-imagenet-35af7c46a941f08e/0.0.0/2a3b91fbd88a2c90d1dbbb32b460cf621d31bd5b05b934492fdef7d8d6f236ec)\n"
     ]
    },
    {
     "name": "stdout",
     "output_type": "stream",
     "text": [
      "mean:  tensor([0.4832, 0.4440, 0.3909])\n",
      "std:  tensor([0.2612, 0.2519, 0.2640])\n"
     ]
    }
   ],
   "source": [
    "# compute normalization values for Tiny ImageNet\n",
    "tiny_imagenet_train = load_dataset('Maysee/tiny-imagenet', split='train')\n",
    "train_transform = transforms.Compose([\n",
    "    transforms.RandomResizedCrop(64),\n",
    "    transforms.RandomHorizontalFlip(),\n",
    "    transforms.ToTensor(),  # transforms images from [0,255] to [0,1] range\n",
    "])\n",
    "\n",
    "train_set = []\n",
    "for i, x in enumerate(tiny_imagenet_train):\n",
    "    if x['image'].mode != 'RGB':\n",
    "        x['image'] = x['image'].convert('RGB')\n",
    "    train_set.append(train_transform(x['image']))\n",
    "\n",
    "\n",
    "# stack all images into a single tensor\n",
    "train_set = torch.stack(train_set, dim=0)\n",
    "\n",
    "\n",
    "# compute mean and std\n",
    "mean = train_set.mean(dim=(0, 2, 3))\n",
    "std = train_set.std(dim=(0, 2, 3))\n",
    "\n",
    "print(\"mean: \", mean)\n",
    "print(\"std: \", std)"
   ]
  },
  {
   "cell_type": "code",
   "execution_count": 4,
   "metadata": {},
   "outputs": [
    {
     "name": "stderr",
     "output_type": "stream",
     "text": [
      "Found cached dataset parquet (/home/metod/.cache/huggingface/datasets/Maysee___parquet/Maysee--tiny-imagenet-35af7c46a941f08e/0.0.0/2a3b91fbd88a2c90d1dbbb32b460cf621d31bd5b05b934492fdef7d8d6f236ec)\n",
      "Found cached dataset parquet (/home/metod/.cache/huggingface/datasets/Maysee___parquet/Maysee--tiny-imagenet-35af7c46a941f08e/0.0.0/2a3b91fbd88a2c90d1dbbb32b460cf621d31bd5b05b934492fdef7d8d6f236ec)\n"
     ]
    }
   ],
   "source": [
    "tiny_imagenet_train = load_dataset('Maysee/tiny-imagenet', split='train')\n",
    "tiny_imagenet_val = load_dataset('Maysee/tiny-imagenet', split='valid')\n",
    "\n",
    "normalize = transforms.Normalize(\n",
    "    mean=[0.4835, 0.4442, 0.3912], std=[0.2613, 0.2520, 0.2642]\n",
    ")\n",
    "\n",
    "# TODO: double check transforms\n",
    "train_transform = transforms.Compose([\n",
    "    transforms.RandomResizedCrop(64),\n",
    "    transforms.RandomHorizontalFlip(),\n",
    "    # TransposeImage(),\n",
    "    transforms.ToTensor(),\n",
    "    normalize\n",
    "])\n",
    "\n",
    "val_transform = transforms.Compose([\n",
    "    transforms.Resize(64),\n",
    "    transforms.CenterCrop(64),\n",
    "    # TransposeImage(),\n",
    "    transforms.ToTensor(),\n",
    "    normalize\n",
    "])\n",
    "\n",
    "train_set = []\n",
    "for i, x in enumerate(tiny_imagenet_train):\n",
    "    if x['image'].mode != 'RGB':\n",
    "        x['image'] = x['image'].convert('RGB')\n",
    "    train_set.append((train_transform(x['image']), x['label']))\n",
    "\n",
    "val_set = []\n",
    "for i, x in enumerate(tiny_imagenet_val):\n",
    "    if x['image'].mode != 'RGB':\n",
    "        x['image'] = x['image'].convert('RGB')\n",
    "    val_set.append((val_transform(x['image']), x['label']))"
   ]
  },
  {
   "cell_type": "code",
   "execution_count": 6,
   "metadata": {},
   "outputs": [],
   "source": [
    "train_loader = torch.utils.data.DataLoader(\n",
    "                train_set,\n",
    "                batch_size=32, shuffle=True,\n",
    "                num_workers=4, pin_memory=True)\n",
    "\n",
    "val_loader = torch.utils.data.DataLoader(\n",
    "                val_set,\n",
    "                batch_size=32, shuffle=False,\n",
    "                num_workers=4, pin_memory=True)"
   ]
  },
  {
   "cell_type": "code",
   "execution_count": 7,
   "metadata": {},
   "outputs": [
    {
     "name": "stdout",
     "output_type": "stream",
     "text": [
      "torch.Size([32, 3, 64, 64]) torch.Size([32])\n",
      "tensor([[[1.8566, 1.8716, 1.9016,  ..., 1.9616, 1.9616, 1.9616],\n",
      "         [1.9166, 1.9016, 1.9016,  ..., 1.9616, 1.9616, 1.9616],\n",
      "         [1.9616, 1.9616, 1.9316,  ..., 1.9466, 1.9466, 1.9466],\n",
      "         ...,\n",
      "         [1.1212, 1.7215, 1.9767,  ..., 1.4814, 1.4664, 1.4064],\n",
      "         [1.8266, 1.8566, 1.6015,  ..., 1.8866, 1.8266, 1.7515],\n",
      "         [1.7816, 1.7215, 1.8266,  ..., 1.9616, 1.9316, 1.9316]],\n",
      "\n",
      "        [[2.1744, 2.1900, 2.1900,  ..., 2.1900, 2.1900, 2.1900],\n",
      "         [2.2056, 2.1900, 2.1900,  ..., 2.1900, 2.1900, 2.1900],\n",
      "         [2.2056, 2.2056, 2.1900,  ..., 2.1744, 2.1744, 2.1744],\n",
      "         ...,\n",
      "         [1.3497, 1.9721, 2.2056,  ..., 1.6920, 1.6765, 1.6142],\n",
      "         [2.2056, 2.2056, 1.9877,  ..., 2.1122, 2.0966, 2.0188],\n",
      "         [2.2056, 2.2056, 2.2056,  ..., 2.1900, 2.2056, 2.2056]],\n",
      "\n",
      "        [[2.2449, 2.2598, 2.2746,  ..., 2.2895, 2.2895, 2.2895],\n",
      "         [2.2895, 2.2746, 2.2746,  ..., 2.2895, 2.2895, 2.2895],\n",
      "         [2.3043, 2.3043, 2.2746,  ..., 2.2746, 2.2746, 2.2746],\n",
      "         ...,\n",
      "         [1.4731, 2.0668, 2.3043,  ..., 1.9332, 1.9481, 1.8887],\n",
      "         [2.3043, 2.3043, 2.0371,  ..., 2.3043, 2.3043, 2.2598],\n",
      "         [2.3043, 2.2746, 2.3043,  ..., 2.3043, 2.3043, 2.3043]]])\n"
     ]
    }
   ],
   "source": [
    "for x, y in val_loader:\n",
    "    print(x.shape, y.shape)\n",
    "    print(x[0])\n",
    "    break"
   ]
  },
  {
   "cell_type": "code",
   "execution_count": null,
   "metadata": {},
   "outputs": [],
   "source": []
  }
 ],
 "metadata": {
  "kernelspec": {
   "display_name": "msdnet",
   "language": "python",
   "name": "python3"
  },
  "language_info": {
   "codemirror_mode": {
    "name": "ipython",
    "version": 3
   },
   "file_extension": ".py",
   "mimetype": "text/x-python",
   "name": "python",
   "nbconvert_exporter": "python",
   "pygments_lexer": "ipython3",
   "version": "3.8.16"
  },
  "orig_nbformat": 4
 },
 "nbformat": 4,
 "nbformat_minor": 2
}
